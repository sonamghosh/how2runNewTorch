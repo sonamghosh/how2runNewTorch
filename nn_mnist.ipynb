{
  "nbformat": 4,
  "nbformat_minor": 0,
  "metadata": {
    "colab": {
      "name": "testing123.ipynb",
      "version": "0.3.2",
      "provenance": []
    },
    "kernelspec": {
      "name": "python3",
      "display_name": "Python 3"
    },
    "accelerator": "GPU"
  },
  "cells": [
    {
      "metadata": {
        "id": "GUbTWfdc8OvE",
        "colab_type": "code",
        "colab": {
          "base_uri": "https://localhost:8080/",
          "height": 51
        },
        "outputId": "284ef9bb-cc90-415e-ce77-d7d4e7fc34d0"
      },
      "cell_type": "code",
      "source": [
        "import torch\n",
        "import torch.nn as nn\n",
        "print(torch.device('cuda:0'))\n",
        "torch.cuda.get_device_name(0)\n",
        "import torchvision.datasets as dsets\n",
        "import torchvision.transforms as transforms\n",
        "from torch.autograd import Variable\n",
        "print(torch.__version__)"
      ],
      "execution_count": 22,
      "outputs": [
        {
          "output_type": "stream",
          "text": [
            "cuda:0\n",
            "1.0.0\n"
          ],
          "name": "stdout"
        }
      ]
    },
    {
      "metadata": {
        "id": "1dYZUyvo94cH",
        "colab_type": "code",
        "colab": {}
      },
      "cell_type": "code",
      "source": [
        "# Hyperparams\n",
        "# 28 x 28 (squashed)\n",
        "input_size = 784\n",
        "# Number of nodes at hidden layer\n",
        "hidden_size = 500\n",
        "# Number of classes\n",
        "num_classes = 10\n",
        "# time steps\n",
        "num_epochs = 20\n",
        "# the size of input data from one iteration\n",
        "batch_size = 100\n",
        "# learning rate\n",
        "lr = 1e-3"
      ],
      "execution_count": 0,
      "outputs": []
    },
    {
      "metadata": {
        "id": "CmOwjKnp-vR3",
        "colab_type": "code",
        "colab": {
          "base_uri": "https://localhost:8080/",
          "height": 119
        },
        "outputId": "ff235f5a-6e62-49ff-e2b8-e26f67ed0be8"
      },
      "cell_type": "code",
      "source": [
        "# mnist data\n",
        "train_data = dsets.MNIST(root='./data', \n",
        "                         train=True,transform=transforms.ToTensor(), download=True)\n",
        "\n",
        "test_data = dsets.MNIST(root='./data', train=False,\n",
        "                       transform=transforms.ToTensor())"
      ],
      "execution_count": 6,
      "outputs": [
        {
          "output_type": "stream",
          "text": [
            "Downloading http://yann.lecun.com/exdb/mnist/train-images-idx3-ubyte.gz\n",
            "Downloading http://yann.lecun.com/exdb/mnist/train-labels-idx1-ubyte.gz\n",
            "Downloading http://yann.lecun.com/exdb/mnist/t10k-images-idx3-ubyte.gz\n",
            "Downloading http://yann.lecun.com/exdb/mnist/t10k-labels-idx1-ubyte.gz\n",
            "Processing...\n",
            "Done!\n"
          ],
          "name": "stdout"
        }
      ]
    },
    {
      "metadata": {
        "id": "H0czY0N2-4wp",
        "colab_type": "code",
        "colab": {}
      },
      "cell_type": "code",
      "source": [
        "# load data\n",
        "train_gen = torch.utils.data.DataLoader(dataset=train_data,\n",
        "                                       batch_size=batch_size,\n",
        "                                       shuffle=True)\n",
        "\n",
        "test_gen = torch.utils.data.DataLoader(dataset=test_data,\n",
        "                                      batch_size=batch_size,\n",
        "                                      shuffle=False)"
      ],
      "execution_count": 0,
      "outputs": []
    },
    {
      "metadata": {
        "id": "K3TzfqeR_Yx9",
        "colab_type": "code",
        "colab": {}
      },
      "cell_type": "code",
      "source": [
        "# model\n",
        "class Net(nn.Module):\n",
        "  def __init__(self, input_size, hidden_size, num_classes):\n",
        "    super(Net, self).__init__()\n",
        "    self.fc1 = nn.Linear(input_size, hidden_size)\n",
        "    self.relu = nn.ReLU()\n",
        "    self.fc2 = nn.Linear(hidden_size, num_classes)\n",
        "   \n",
        "  def forward(self, x):\n",
        "    out = self.fc1(x)\n",
        "    out = self.relu(out)\n",
        "    out = self.fc2(out)\n",
        "    return out"
      ],
      "execution_count": 0,
      "outputs": []
    },
    {
      "metadata": {
        "id": "GzPRdNE5_vI3",
        "colab_type": "code",
        "colab": {}
      },
      "cell_type": "code",
      "source": [
        "# build\n",
        "net = Net(input_size, hidden_size=hidden_size, num_classes=num_classes)\n",
        "if torch.cuda.is_available():\n",
        "  net.cuda()"
      ],
      "execution_count": 0,
      "outputs": []
    },
    {
      "metadata": {
        "id": "v9Yg6kWu_96-",
        "colab_type": "code",
        "colab": {}
      },
      "cell_type": "code",
      "source": [
        "# Adam Backprop and Loss Func\n",
        "loss_function = nn.CrossEntropyLoss()\n",
        "optimizer = torch.optim.Adam(net.parameters(), lr=lr)"
      ],
      "execution_count": 0,
      "outputs": []
    },
    {
      "metadata": {
        "id": "jRp02uGYAKH8",
        "colab_type": "code",
        "colab": {
          "base_uri": "https://localhost:8080/",
          "height": 2057
        },
        "outputId": "12eecb5b-e9c3-4251-f6e8-0112197461fa"
      },
      "cell_type": "code",
      "source": [
        "# train\n",
        "for epoch in range(num_epochs):\n",
        "  for i, (images, labels) in enumerate(train_gen):\n",
        "    images = Variable(images.view(-1, 28*28)).cuda()\n",
        "    labels = Variable(labels).cuda()\n",
        "    \n",
        "    optimizer.zero_grad()\n",
        "    outputs = net(images)\n",
        "    loss = loss_function(outputs,labels)\n",
        "    loss.backward()\n",
        "    optimizer.step()\n",
        "    if (i + 1) % 100 == 0:\n",
        "      print('Epoch [%d/%d], Step [%d/%d], Loss: %.4f'\n",
        "           % (epoch+1, num_epochs, i+1, len(train_data)//batch_size, loss.item()))  # change loss.data[0] to loss.item() for PyTorch version 1.0"
      ],
      "execution_count": 24,
      "outputs": [
        {
          "output_type": "stream",
          "text": [
            "Epoch [1/20], Step [100/600], Loss: 0.1765\n",
            "Epoch [1/20], Step [200/600], Loss: 0.2097\n",
            "Epoch [1/20], Step [300/600], Loss: 0.1583\n",
            "Epoch [1/20], Step [400/600], Loss: 0.1743\n",
            "Epoch [1/20], Step [500/600], Loss: 0.0825\n",
            "Epoch [1/20], Step [600/600], Loss: 0.1185\n",
            "Epoch [2/20], Step [100/600], Loss: 0.1307\n",
            "Epoch [2/20], Step [200/600], Loss: 0.0322\n",
            "Epoch [2/20], Step [300/600], Loss: 0.1010\n",
            "Epoch [2/20], Step [400/600], Loss: 0.1301\n",
            "Epoch [2/20], Step [500/600], Loss: 0.0772\n",
            "Epoch [2/20], Step [600/600], Loss: 0.1096\n",
            "Epoch [3/20], Step [100/600], Loss: 0.0411\n",
            "Epoch [3/20], Step [200/600], Loss: 0.0297\n",
            "Epoch [3/20], Step [300/600], Loss: 0.0892\n",
            "Epoch [3/20], Step [400/600], Loss: 0.0360\n",
            "Epoch [3/20], Step [500/600], Loss: 0.0660\n",
            "Epoch [3/20], Step [600/600], Loss: 0.2363\n",
            "Epoch [4/20], Step [100/600], Loss: 0.0358\n",
            "Epoch [4/20], Step [200/600], Loss: 0.0682\n",
            "Epoch [4/20], Step [300/600], Loss: 0.0205\n",
            "Epoch [4/20], Step [400/600], Loss: 0.0174\n",
            "Epoch [4/20], Step [500/600], Loss: 0.0353\n",
            "Epoch [4/20], Step [600/600], Loss: 0.0187\n",
            "Epoch [5/20], Step [100/600], Loss: 0.0207\n",
            "Epoch [5/20], Step [200/600], Loss: 0.0294\n",
            "Epoch [5/20], Step [300/600], Loss: 0.0257\n",
            "Epoch [5/20], Step [400/600], Loss: 0.0336\n",
            "Epoch [5/20], Step [500/600], Loss: 0.0385\n",
            "Epoch [5/20], Step [600/600], Loss: 0.0590\n",
            "Epoch [6/20], Step [100/600], Loss: 0.0161\n",
            "Epoch [6/20], Step [200/600], Loss: 0.0279\n",
            "Epoch [6/20], Step [300/600], Loss: 0.0209\n",
            "Epoch [6/20], Step [400/600], Loss: 0.0167\n",
            "Epoch [6/20], Step [500/600], Loss: 0.0111\n",
            "Epoch [6/20], Step [600/600], Loss: 0.0312\n",
            "Epoch [7/20], Step [100/600], Loss: 0.0444\n",
            "Epoch [7/20], Step [200/600], Loss: 0.0188\n",
            "Epoch [7/20], Step [300/600], Loss: 0.0382\n",
            "Epoch [7/20], Step [400/600], Loss: 0.0327\n",
            "Epoch [7/20], Step [500/600], Loss: 0.0116\n",
            "Epoch [7/20], Step [600/600], Loss: 0.0262\n",
            "Epoch [8/20], Step [100/600], Loss: 0.0026\n",
            "Epoch [8/20], Step [200/600], Loss: 0.0116\n",
            "Epoch [8/20], Step [300/600], Loss: 0.0138\n",
            "Epoch [8/20], Step [400/600], Loss: 0.0169\n",
            "Epoch [8/20], Step [500/600], Loss: 0.0361\n",
            "Epoch [8/20], Step [600/600], Loss: 0.0021\n",
            "Epoch [9/20], Step [100/600], Loss: 0.0037\n",
            "Epoch [9/20], Step [200/600], Loss: 0.0125\n",
            "Epoch [9/20], Step [300/600], Loss: 0.0282\n",
            "Epoch [9/20], Step [400/600], Loss: 0.0063\n",
            "Epoch [9/20], Step [500/600], Loss: 0.0018\n",
            "Epoch [9/20], Step [600/600], Loss: 0.0235\n",
            "Epoch [10/20], Step [100/600], Loss: 0.0048\n",
            "Epoch [10/20], Step [200/600], Loss: 0.0043\n",
            "Epoch [10/20], Step [300/600], Loss: 0.0243\n",
            "Epoch [10/20], Step [400/600], Loss: 0.0072\n",
            "Epoch [10/20], Step [500/600], Loss: 0.0062\n",
            "Epoch [10/20], Step [600/600], Loss: 0.0054\n",
            "Epoch [11/20], Step [100/600], Loss: 0.0081\n",
            "Epoch [11/20], Step [200/600], Loss: 0.0073\n",
            "Epoch [11/20], Step [300/600], Loss: 0.0015\n",
            "Epoch [11/20], Step [400/600], Loss: 0.0034\n",
            "Epoch [11/20], Step [500/600], Loss: 0.0611\n",
            "Epoch [11/20], Step [600/600], Loss: 0.0033\n",
            "Epoch [12/20], Step [100/600], Loss: 0.0174\n",
            "Epoch [12/20], Step [200/600], Loss: 0.0026\n",
            "Epoch [12/20], Step [300/600], Loss: 0.0144\n",
            "Epoch [12/20], Step [400/600], Loss: 0.0004\n",
            "Epoch [12/20], Step [500/600], Loss: 0.0038\n",
            "Epoch [12/20], Step [600/600], Loss: 0.0029\n",
            "Epoch [13/20], Step [100/600], Loss: 0.0019\n",
            "Epoch [13/20], Step [200/600], Loss: 0.0046\n",
            "Epoch [13/20], Step [300/600], Loss: 0.0048\n",
            "Epoch [13/20], Step [400/600], Loss: 0.0106\n",
            "Epoch [13/20], Step [500/600], Loss: 0.0007\n",
            "Epoch [13/20], Step [600/600], Loss: 0.0116\n",
            "Epoch [14/20], Step [100/600], Loss: 0.0056\n",
            "Epoch [14/20], Step [200/600], Loss: 0.0020\n",
            "Epoch [14/20], Step [300/600], Loss: 0.0067\n",
            "Epoch [14/20], Step [400/600], Loss: 0.0013\n",
            "Epoch [14/20], Step [500/600], Loss: 0.0012\n",
            "Epoch [14/20], Step [600/600], Loss: 0.0014\n",
            "Epoch [15/20], Step [100/600], Loss: 0.0008\n",
            "Epoch [15/20], Step [200/600], Loss: 0.0011\n",
            "Epoch [15/20], Step [300/600], Loss: 0.0008\n",
            "Epoch [15/20], Step [400/600], Loss: 0.0004\n",
            "Epoch [15/20], Step [500/600], Loss: 0.0101\n",
            "Epoch [15/20], Step [600/600], Loss: 0.0027\n",
            "Epoch [16/20], Step [100/600], Loss: 0.0219\n",
            "Epoch [16/20], Step [200/600], Loss: 0.0231\n",
            "Epoch [16/20], Step [300/600], Loss: 0.0005\n",
            "Epoch [16/20], Step [400/600], Loss: 0.0205\n",
            "Epoch [16/20], Step [500/600], Loss: 0.0281\n",
            "Epoch [16/20], Step [600/600], Loss: 0.0011\n",
            "Epoch [17/20], Step [100/600], Loss: 0.0003\n",
            "Epoch [17/20], Step [200/600], Loss: 0.0007\n",
            "Epoch [17/20], Step [300/600], Loss: 0.0042\n",
            "Epoch [17/20], Step [400/600], Loss: 0.0051\n",
            "Epoch [17/20], Step [500/600], Loss: 0.0027\n",
            "Epoch [17/20], Step [600/600], Loss: 0.0002\n",
            "Epoch [18/20], Step [100/600], Loss: 0.0098\n",
            "Epoch [18/20], Step [200/600], Loss: 0.0002\n",
            "Epoch [18/20], Step [300/600], Loss: 0.0025\n",
            "Epoch [18/20], Step [400/600], Loss: 0.0289\n",
            "Epoch [18/20], Step [500/600], Loss: 0.0026\n",
            "Epoch [18/20], Step [600/600], Loss: 0.0031\n",
            "Epoch [19/20], Step [100/600], Loss: 0.0008\n",
            "Epoch [19/20], Step [200/600], Loss: 0.0002\n",
            "Epoch [19/20], Step [300/600], Loss: 0.0039\n",
            "Epoch [19/20], Step [400/600], Loss: 0.0003\n",
            "Epoch [19/20], Step [500/600], Loss: 0.0008\n",
            "Epoch [19/20], Step [600/600], Loss: 0.0001\n",
            "Epoch [20/20], Step [100/600], Loss: 0.0003\n",
            "Epoch [20/20], Step [200/600], Loss: 0.0002\n",
            "Epoch [20/20], Step [300/600], Loss: 0.0002\n",
            "Epoch [20/20], Step [400/600], Loss: 0.0000\n",
            "Epoch [20/20], Step [500/600], Loss: 0.0002\n",
            "Epoch [20/20], Step [600/600], Loss: 0.0005\n"
          ],
          "name": "stdout"
        }
      ]
    },
    {
      "metadata": {
        "id": "CbHsCbYXCrxf",
        "colab_type": "code",
        "colab": {
          "base_uri": "https://localhost:8080/",
          "height": 34
        },
        "outputId": "0ca81097-bed2-49b7-f1e2-6f288635c561"
      },
      "cell_type": "code",
      "source": [
        "# Eval Accuracy\n",
        "correct = 0\n",
        "total = 0\n",
        "for images, labels in test_gen:\n",
        "  images = Variable(images.view(-1, 28*28)).cuda()\n",
        "  labels = labels.cuda()\n",
        "  \n",
        "  output = net(images)\n",
        "  _, predicted = torch.max(output, 1)\n",
        "  correct += (predicted == labels).sum()\n",
        "  total += labels.size(0)\n",
        "\n",
        "print(\"accuracy of model: %.3f %%\" % ((100*correct)/(total+1)))"
      ],
      "execution_count": 25,
      "outputs": [
        {
          "output_type": "stream",
          "text": [
            "accuracy of model: 98.000 %\n"
          ],
          "name": "stdout"
        }
      ]
    }
  ]
}